{
 "cells": [
  {
   "cell_type": "code",
   "execution_count": 1,
   "metadata": {
    "collapsed": true
   },
   "outputs": [],
   "source": [
    "import numpy as np\n",
    "\n",
    "import matplotlib\n",
    "import matplotlib.pyplot as plt\n",
    "%matplotlib inline"
   ]
  },
  {
   "cell_type": "code",
   "execution_count": 2,
   "metadata": {
    "collapsed": true
   },
   "outputs": [],
   "source": [
    "def flat_panel_geo(bp,T,c_r,c_t,m,n,i,j):\n",
    "    dy = bp/n\n",
    "    \n",
    "    # A-B=forward segment\n",
    "    # C-D=rear segment\n",
    "    # A and C are on the same chord, idem B and D. Clockwise sequence: ABDC\n",
    "    y_A = -bp/2 + j*dy\n",
    "    y_B = y_A + dy\n",
    "    y_C, y_D = y_A, y_B\n",
    "\n",
    "    y_pc = y_A + dy/2\n",
    "    \n",
    "    # slope of the quarter chord line\n",
    "    p = np.tan(T)\n",
    "    \n",
    "    # r,s,q are the X coordinates of the quarter chord line for y_A, y_B and y_pc respectively\n",
    "    ch_025 = lambda y: c_r/4 + p*abs(y)\n",
    "    r = ch_025(y_A)\n",
    "    s = ch_025(y_B)\n",
    "    q = ch_025(y_pc)\n",
    "\n",
    "    # chord law evaluation\n",
    "    ch_y = lambda y: c_r + (c_t - c_r)*abs(2*y/bp) \n",
    "    c_AC = ch_y(y_A)\n",
    "    c_BD = ch_y(y_B)\n",
    "    c_PC = ch_y(y_pc)\n",
    "\n",
    "    # division of the chord in m equal panels\n",
    "    dx_AC = c_AC/m\n",
    "    dx_BD = c_BD/m\n",
    "    dx_PC = c_PC/m\n",
    "    x_A = (r - c_AC/4) + i*dx_AC\n",
    "    x_B = (s - c_BD/4) + i*dx_BD\n",
    "    x_pc = (q - c_PC/4) + (i + 3/4)*dx_PC\n",
    "    \n",
    "    # the first term in brackets in the expressions of xA, xB and XPC is the x\n",
    "    # coordinate of the leading edge of the chord that corresponds to yA, yB\n",
    "    # and yPC respectively, defined by means of the quarter chord line\n",
    "    x_C = x_A + dx_AC\n",
    "    x_D = x_B + dx_BD\n",
    "    \n",
    "    x = np.array([x_A,x_B,x_D,x_C])\n",
    "    y = np.array([y_A,y_B,y_D,y_C])\n",
    "    \n",
    "    return x, y"
   ]
  },
  {
   "cell_type": "code",
   "execution_count": 3,
   "metadata": {
    "collapsed": true
   },
   "outputs": [],
   "source": [
    "bp = 30\n",
    "m, n = 3, 10\n",
    "T = 20*np.pi/180\n",
    "c_r, c_t = 10, 6"
   ]
  },
  {
   "cell_type": "code",
   "execution_count": 4,
   "metadata": {
    "collapsed": false
   },
   "outputs": [],
   "source": [
    "X = np.empty((m,n,4))\n",
    "Y = np.empty((m,n,4))\n",
    "for i in range(m):\n",
    "    for j in range(n):\n",
    "        X[i,j,:], Y[i,j,:] = flat_panel_geo(bp,T,c_r,c_t,m,n,i,j)"
   ]
  },
  {
   "cell_type": "code",
   "execution_count": 5,
   "metadata": {
    "collapsed": true
   },
   "outputs": [],
   "source": [
    "x, y = flat_panel_geo(bp,T,c_r,c_t,m,n,i,j)"
   ]
  },
  {
   "cell_type": "code",
   "execution_count": 6,
   "metadata": {
    "collapsed": false
   },
   "outputs": [
    {
     "data": {
      "image/png": "[encoded data removed]",
      "text/plain": [
       "<matplotlib.figure.Figure at 0x2856e983c88>"
      ]
     },
     "metadata": {},
     "output_type": "display_data"
    }
   ],
   "source": [
    "plt.figure()\n",
    "for i in range(m):\n",
    "    for j in range(n):\n",
    "        plt.plot(X[i,j],Y[i,j])\n",
    "plt.xlabel('x')\n",
    "plt.ylabel('y')\n",
    "plt.ylim(-bp/2-1,bp/2+1)\n",
    "plt.xlim(-1,c_r + c_t)\n",
    "plt.axes().set_aspect('equal');"
   ]
  },
  {
   "cell_type": "code",
   "execution_count": null,
   "metadata": {
    "collapsed": true
   },
   "outputs": [],
   "source": []
  }
 ],
 "metadata": {
  "anaconda-cloud": {},
  "kernelspec": {
   "display_name": "Python [conda root]",
   "language": "python",
   "name": "conda-root-py"
  },
  "language_info": {
   "codemirror_mode": {
    "name": "ipython",
    "version": 3
   },
   "file_extension": ".py",
   "mimetype": "text/x-python",
   "name": "python",
   "nbconvert_exporter": "python",
   "pygments_lexer": "ipython3",
   "version": "3.5.2"
  }
 },
 "nbformat": 4,
 "nbformat_minor": 1
}
